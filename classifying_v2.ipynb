{
 "cells": [
  {
   "cell_type": "code",
   "execution_count": 17,
   "metadata": {},
   "outputs": [
    {
     "data": {
      "text/html": [
       "<div>\n",
       "<style scoped>\n",
       "    .dataframe tbody tr th:only-of-type {\n",
       "        vertical-align: middle;\n",
       "    }\n",
       "\n",
       "    .dataframe tbody tr th {\n",
       "        vertical-align: top;\n",
       "    }\n",
       "\n",
       "    .dataframe thead th {\n",
       "        text-align: right;\n",
       "    }\n",
       "</style>\n",
       "<table border=\"1\" class=\"dataframe\">\n",
       "  <thead>\n",
       "    <tr style=\"text-align: right;\">\n",
       "      <th></th>\n",
       "      <th>chroma_stft</th>\n",
       "      <th>rmse</th>\n",
       "      <th>spectral_centroid</th>\n",
       "      <th>spectral_bandwidth</th>\n",
       "      <th>rolloff</th>\n",
       "      <th>zero_crossing_rate</th>\n",
       "      <th>mfcc1</th>\n",
       "      <th>mfcc2</th>\n",
       "      <th>mfcc3</th>\n",
       "      <th>mfcc4</th>\n",
       "      <th>...</th>\n",
       "      <th>mfcc11</th>\n",
       "      <th>mfcc12</th>\n",
       "      <th>mfcc13</th>\n",
       "      <th>mfcc14</th>\n",
       "      <th>mfcc15</th>\n",
       "      <th>mfcc16</th>\n",
       "      <th>mfcc17</th>\n",
       "      <th>mfcc18</th>\n",
       "      <th>mfcc19</th>\n",
       "      <th>mfcc20</th>\n",
       "    </tr>\n",
       "  </thead>\n",
       "  <tbody>\n",
       "    <tr>\n",
       "      <th>0</th>\n",
       "      <td>0.490575</td>\n",
       "      <td>0.025069</td>\n",
       "      <td>2171.913549</td>\n",
       "      <td>2139.885722</td>\n",
       "      <td>4431.553141</td>\n",
       "      <td>0.101278</td>\n",
       "      <td>-380.533020</td>\n",
       "      <td>112.694641</td>\n",
       "      <td>-31.796848</td>\n",
       "      <td>1.780545</td>\n",
       "      <td>...</td>\n",
       "      <td>10.122002</td>\n",
       "      <td>-1.219215</td>\n",
       "      <td>-5.020499</td>\n",
       "      <td>-8.176243</td>\n",
       "      <td>-6.034646</td>\n",
       "      <td>5.141100</td>\n",
       "      <td>-4.364628</td>\n",
       "      <td>-1.783790</td>\n",
       "      <td>-1.651915</td>\n",
       "      <td>-2.534616</td>\n",
       "    </tr>\n",
       "    <tr>\n",
       "      <th>1</th>\n",
       "      <td>0.441578</td>\n",
       "      <td>0.031176</td>\n",
       "      <td>2452.753355</td>\n",
       "      <td>2400.318018</td>\n",
       "      <td>5115.332031</td>\n",
       "      <td>0.126144</td>\n",
       "      <td>-353.482391</td>\n",
       "      <td>92.485397</td>\n",
       "      <td>-3.311667</td>\n",
       "      <td>21.250517</td>\n",
       "      <td>...</td>\n",
       "      <td>-3.828105</td>\n",
       "      <td>-2.363839</td>\n",
       "      <td>-5.873488</td>\n",
       "      <td>2.105093</td>\n",
       "      <td>-7.501835</td>\n",
       "      <td>2.208278</td>\n",
       "      <td>-3.906220</td>\n",
       "      <td>-3.250791</td>\n",
       "      <td>-2.498704</td>\n",
       "      <td>0.930458</td>\n",
       "    </tr>\n",
       "    <tr>\n",
       "      <th>2</th>\n",
       "      <td>0.391119</td>\n",
       "      <td>0.049024</td>\n",
       "      <td>2102.894499</td>\n",
       "      <td>2018.743044</td>\n",
       "      <td>3995.107015</td>\n",
       "      <td>0.106585</td>\n",
       "      <td>-298.112457</td>\n",
       "      <td>105.581268</td>\n",
       "      <td>-1.911337</td>\n",
       "      <td>38.332870</td>\n",
       "      <td>...</td>\n",
       "      <td>-2.136520</td>\n",
       "      <td>-4.300785</td>\n",
       "      <td>-13.941048</td>\n",
       "      <td>0.797238</td>\n",
       "      <td>-8.774372</td>\n",
       "      <td>-1.213172</td>\n",
       "      <td>-6.336737</td>\n",
       "      <td>-4.957156</td>\n",
       "      <td>-6.576495</td>\n",
       "      <td>-1.673529</td>\n",
       "    </tr>\n",
       "    <tr>\n",
       "      <th>5</th>\n",
       "      <td>0.469809</td>\n",
       "      <td>0.037327</td>\n",
       "      <td>2239.813927</td>\n",
       "      <td>2191.132913</td>\n",
       "      <td>4524.066162</td>\n",
       "      <td>0.112287</td>\n",
       "      <td>-324.963318</td>\n",
       "      <td>108.212601</td>\n",
       "      <td>-16.467024</td>\n",
       "      <td>26.865139</td>\n",
       "      <td>...</td>\n",
       "      <td>-2.978554</td>\n",
       "      <td>-0.770890</td>\n",
       "      <td>-7.123728</td>\n",
       "      <td>3.142917</td>\n",
       "      <td>-7.908026</td>\n",
       "      <td>0.713636</td>\n",
       "      <td>-4.640324</td>\n",
       "      <td>-4.185403</td>\n",
       "      <td>-4.470373</td>\n",
       "      <td>4.049245</td>\n",
       "    </tr>\n",
       "    <tr>\n",
       "      <th>6</th>\n",
       "      <td>0.370643</td>\n",
       "      <td>0.060327</td>\n",
       "      <td>2311.597408</td>\n",
       "      <td>1842.221912</td>\n",
       "      <td>4046.746826</td>\n",
       "      <td>0.141018</td>\n",
       "      <td>-244.242737</td>\n",
       "      <td>101.293144</td>\n",
       "      <td>-26.639498</td>\n",
       "      <td>17.342655</td>\n",
       "      <td>...</td>\n",
       "      <td>0.350607</td>\n",
       "      <td>-7.042977</td>\n",
       "      <td>-17.581421</td>\n",
       "      <td>0.219237</td>\n",
       "      <td>-15.416845</td>\n",
       "      <td>-2.527660</td>\n",
       "      <td>-6.503064</td>\n",
       "      <td>-7.859387</td>\n",
       "      <td>-11.159444</td>\n",
       "      <td>-1.384048</td>\n",
       "    </tr>\n",
       "  </tbody>\n",
       "</table>\n",
       "<p>5 rows × 26 columns</p>\n",
       "</div>"
      ],
      "text/plain": [
       "   chroma_stft      rmse  spectral_centroid  spectral_bandwidth      rolloff  \\\n",
       "0     0.490575  0.025069        2171.913549         2139.885722  4431.553141   \n",
       "1     0.441578  0.031176        2452.753355         2400.318018  5115.332031   \n",
       "2     0.391119  0.049024        2102.894499         2018.743044  3995.107015   \n",
       "5     0.469809  0.037327        2239.813927         2191.132913  4524.066162   \n",
       "6     0.370643  0.060327        2311.597408         1842.221912  4046.746826   \n",
       "\n",
       "   zero_crossing_rate       mfcc1       mfcc2      mfcc3      mfcc4  ...  \\\n",
       "0            0.101278 -380.533020  112.694641 -31.796848   1.780545  ...   \n",
       "1            0.126144 -353.482391   92.485397  -3.311667  21.250517  ...   \n",
       "2            0.106585 -298.112457  105.581268  -1.911337  38.332870  ...   \n",
       "5            0.112287 -324.963318  108.212601 -16.467024  26.865139  ...   \n",
       "6            0.141018 -244.242737  101.293144 -26.639498  17.342655  ...   \n",
       "\n",
       "      mfcc11    mfcc12     mfcc13    mfcc14     mfcc15    mfcc16    mfcc17  \\\n",
       "0  10.122002 -1.219215  -5.020499 -8.176243  -6.034646  5.141100 -4.364628   \n",
       "1  -3.828105 -2.363839  -5.873488  2.105093  -7.501835  2.208278 -3.906220   \n",
       "2  -2.136520 -4.300785 -13.941048  0.797238  -8.774372 -1.213172 -6.336737   \n",
       "5  -2.978554 -0.770890  -7.123728  3.142917  -7.908026  0.713636 -4.640324   \n",
       "6   0.350607 -7.042977 -17.581421  0.219237 -15.416845 -2.527660 -6.503064   \n",
       "\n",
       "     mfcc18     mfcc19    mfcc20  \n",
       "0 -1.783790  -1.651915 -2.534616  \n",
       "1 -3.250791  -2.498704  0.930458  \n",
       "2 -4.957156  -6.576495 -1.673529  \n",
       "5 -4.185403  -4.470373  4.049245  \n",
       "6 -7.859387 -11.159444 -1.384048  \n",
       "\n",
       "[5 rows x 26 columns]"
      ]
     },
     "execution_count": 17,
     "metadata": {},
     "output_type": "execute_result"
    }
   ],
   "source": [
    "import numpy as np\n",
    "import pandas as pd\n",
    "\n",
    "sound_data = pd.read_csv('datasets/jrelabeled.csv')\n",
    "labeled_data = sound_data[sound_data['label'] >= 0]\n",
    "labeled_data['label'].value_counts()\n",
    "X = labeled_data.drop(['filename', 'label', 'predictions'], axis=1)\n",
    "y = labeled_data['label']\n",
    "X.head()"
   ]
  },
  {
   "cell_type": "code",
   "execution_count": 18,
   "metadata": {},
   "outputs": [],
   "source": [
    "from sklearn.preprocessing import StandardScaler\n",
    "\n",
    "st_scaler = StandardScaler()\n",
    "scaled_X = st_scaler.fit_transform(X)"
   ]
  },
  {
   "cell_type": "code",
   "execution_count": 19,
   "metadata": {},
   "outputs": [],
   "source": [
    "from sklearn.model_selection import train_test_split\n",
    "\n",
    "X_train, X_test, y_train, y_test = train_test_split(scaled_X, y, test_size=0.2)"
   ]
  },
  {
   "cell_type": "code",
   "execution_count": 20,
   "metadata": {},
   "outputs": [],
   "source": [
    "from tensorflow.keras.models import Sequential\n",
    "from tensorflow.keras.layers import Dense, Dropout\n",
    "from tensorflow.keras.optimizers import RMSprop\n",
    "\n",
    "model = Sequential()\n",
    "model.add(Dense(256, activation='relu', input_shape=(X_train.shape[1],)))\n",
    "model.add(Dense(128, activation='relu'))\n",
    "model.add(Dense(64, activation='relu'))\n",
    "model.add(Dense(1, activation='sigmoid'))\n",
    "\n",
    "model.compile(optimizer='adam',\n",
    "             loss='binary_crossentropy',\n",
    "             metrics = ['accuracy'])"
   ]
  },
  {
   "cell_type": "code",
   "execution_count": 21,
   "metadata": {},
   "outputs": [
    {
     "name": "stdout",
     "output_type": "stream",
     "text": [
      "Epoch 1/20\n",
      "96/96 - 0s - loss: 0.1256 - accuracy: 0.9508 - val_loss: 0.0225 - val_accuracy: 0.9965\n",
      "Epoch 2/20\n",
      "96/96 - 0s - loss: 0.0207 - accuracy: 0.9939 - val_loss: 0.0117 - val_accuracy: 0.9965\n",
      "Epoch 3/20\n",
      "96/96 - 0s - loss: 0.0089 - accuracy: 0.9970 - val_loss: 0.0170 - val_accuracy: 0.9930\n",
      "Epoch 4/20\n",
      "96/96 - 0s - loss: 0.0059 - accuracy: 0.9978 - val_loss: 0.0086 - val_accuracy: 0.9965\n",
      "Epoch 5/20\n",
      "96/96 - 0s - loss: 0.0068 - accuracy: 0.9978 - val_loss: 0.0082 - val_accuracy: 0.9983\n",
      "Epoch 6/20\n",
      "96/96 - 0s - loss: 0.0204 - accuracy: 0.9913 - val_loss: 0.0276 - val_accuracy: 0.9948\n",
      "Epoch 7/20\n",
      "96/96 - 0s - loss: 0.0062 - accuracy: 0.9978 - val_loss: 0.0374 - val_accuracy: 0.9861\n",
      "Epoch 8/20\n",
      "96/96 - 0s - loss: 8.3009e-04 - accuracy: 1.0000 - val_loss: 0.0188 - val_accuracy: 0.9930\n",
      "Epoch 9/20\n",
      "96/96 - 0s - loss: 3.2531e-04 - accuracy: 1.0000 - val_loss: 0.0239 - val_accuracy: 0.9913\n",
      "Epoch 10/20\n",
      "96/96 - 0s - loss: 2.2807e-04 - accuracy: 1.0000 - val_loss: 0.0227 - val_accuracy: 0.9930\n",
      "Epoch 11/20\n",
      "96/96 - 0s - loss: 1.8124e-04 - accuracy: 1.0000 - val_loss: 0.0234 - val_accuracy: 0.9930\n",
      "Epoch 12/20\n",
      "96/96 - 0s - loss: 1.5083e-04 - accuracy: 1.0000 - val_loss: 0.0221 - val_accuracy: 0.9930\n",
      "Epoch 13/20\n",
      "96/96 - 0s - loss: 1.2476e-04 - accuracy: 1.0000 - val_loss: 0.0229 - val_accuracy: 0.9930\n",
      "Epoch 14/20\n",
      "96/96 - 0s - loss: 1.0726e-04 - accuracy: 1.0000 - val_loss: 0.0222 - val_accuracy: 0.9930\n",
      "Epoch 15/20\n",
      "96/96 - 0s - loss: 9.2653e-05 - accuracy: 1.0000 - val_loss: 0.0214 - val_accuracy: 0.9930\n",
      "Epoch 16/20\n",
      "96/96 - 0s - loss: 8.0550e-05 - accuracy: 1.0000 - val_loss: 0.0218 - val_accuracy: 0.9930\n",
      "Epoch 17/20\n",
      "96/96 - 0s - loss: 7.1071e-05 - accuracy: 1.0000 - val_loss: 0.0213 - val_accuracy: 0.9930\n",
      "Epoch 18/20\n",
      "96/96 - 0s - loss: 6.2307e-05 - accuracy: 1.0000 - val_loss: 0.0212 - val_accuracy: 0.9930\n",
      "Epoch 19/20\n",
      "96/96 - 0s - loss: 5.6073e-05 - accuracy: 1.0000 - val_loss: 0.0209 - val_accuracy: 0.9930\n",
      "Epoch 20/20\n",
      "96/96 - 0s - loss: 4.9395e-05 - accuracy: 1.0000 - val_loss: 0.0203 - val_accuracy: 0.9930\n"
     ]
    }
   ],
   "source": [
    "history = model.fit(np.array(X_train), y_train, \n",
    "                    epochs=20, \n",
    "                    batch_size=24,\n",
    "                   verbose=2,\n",
    "                   validation_data=(np.array(X_test), y_test))"
   ]
  },
  {
   "cell_type": "code",
   "execution_count": 22,
   "metadata": {},
   "outputs": [],
   "source": [
    "from pydub import AudioSegment\n",
    "import librosa\n",
    "import pathlib\n",
    "import os\n",
    "\n",
    "\n",
    "\n",
    "def preprocessing(filename):\n",
    "    \n",
    "\n",
    "    y, sr = librosa.load(f\"audio/{filename}.wav\", mono=True)\n",
    "    \n",
    "    \n",
    "    rmse = librosa.feature.rms(y=y) #root mean squred ENERGY note. changed to rms form rmse\n",
    "    chroma_stft = librosa.feature.chroma_stft(y=y, sr=sr)\n",
    "    spec_cent = librosa.feature.spectral_centroid(y=y, sr=sr)\n",
    "    spec_bw = librosa.feature.spectral_bandwidth(y=y, sr=sr)\n",
    "    rolloff = librosa.feature.spectral_rolloff(y=y, sr=sr)\n",
    "    zcr = librosa.feature.zero_crossing_rate(y)\n",
    "    mfcc = librosa.feature.mfcc(y=y, sr=sr)\n",
    "    \n",
    "    to_append = f'{np.mean(chroma_stft)} {np.mean(rmse)} {np.mean(spec_cent)} {np.mean(spec_bw)} {np.mean(rolloff)} {np.mean(zcr)}'\n",
    "\n",
    "    for e in mfcc:\n",
    "        to_append += f' {np.mean(e)}'\n",
    "    \n",
    "    scaled_data = st_scaler.transform([to_append.split()])\n",
    "    \n",
    "    return scaled_data"
   ]
  },
  {
   "cell_type": "code",
   "execution_count": 38,
   "metadata": {},
   "outputs": [
    {
     "data": {
      "text/plain": [
       "array([[0.99997556]], dtype=float32)"
      ]
     },
     "execution_count": 38,
     "metadata": {},
     "output_type": "execute_result"
    }
   ],
   "source": [
    "vector = preprocessing(f'roganclimate/roganclimate8')\n",
    "model.predict(vector)"
   ]
  },
  {
   "cell_type": "markdown",
   "metadata": {},
   "source": [
    "# Trying out Random Forests"
   ]
  },
  {
   "cell_type": "code",
   "execution_count": 35,
   "metadata": {},
   "outputs": [
    {
     "data": {
      "text/plain": [
       "RandomForestClassifier(bootstrap=True, ccp_alpha=0.0, class_weight=None,\n",
       "                       criterion='gini', max_depth=None, max_features='auto',\n",
       "                       max_leaf_nodes=None, max_samples=None,\n",
       "                       min_impurity_decrease=0.0, min_impurity_split=None,\n",
       "                       min_samples_leaf=1, min_samples_split=2,\n",
       "                       min_weight_fraction_leaf=0.0, n_estimators=100,\n",
       "                       n_jobs=None, oob_score=False, random_state=None,\n",
       "                       verbose=0, warm_start=False)"
      ]
     },
     "execution_count": 35,
     "metadata": {},
     "output_type": "execute_result"
    }
   ],
   "source": [
    "from sklearn.ensemble import RandomForestClassifier\n",
    "\n",
    "rf_clf = RandomForestClassifier()\n",
    "rf_clf.fit(X_train, y_train)"
   ]
  },
  {
   "cell_type": "code",
   "execution_count": 37,
   "metadata": {},
   "outputs": [
    {
     "data": {
      "text/plain": [
       "array([[ 912,    0],\n",
       "       [   0, 1387]], dtype=int64)"
      ]
     },
     "execution_count": 37,
     "metadata": {},
     "output_type": "execute_result"
    }
   ],
   "source": [
    "from sklearn.metrics import confusion_matrix\n",
    "train_predictions = rf_clf.predict(X_train)\n",
    "\n",
    "cmatrix = confusion_matrix(y_train, train_predictions)\n",
    "cmatrix"
   ]
  },
  {
   "cell_type": "code",
   "execution_count": 39,
   "metadata": {},
   "outputs": [
    {
     "data": {
      "text/plain": [
       "array([1], dtype=int64)"
      ]
     },
     "execution_count": 39,
     "metadata": {},
     "output_type": "execute_result"
    }
   ],
   "source": [
    "rf_clf.predict(vector)"
   ]
  },
  {
   "cell_type": "code",
   "execution_count": null,
   "metadata": {},
   "outputs": [],
   "source": []
  }
 ],
 "metadata": {
  "kernelspec": {
   "display_name": "Python 3",
   "language": "python",
   "name": "python3"
  },
  "language_info": {
   "codemirror_mode": {
    "name": "ipython",
    "version": 3
   },
   "file_extension": ".py",
   "mimetype": "text/x-python",
   "name": "python",
   "nbconvert_exporter": "python",
   "pygments_lexer": "ipython3",
   "version": "3.7.6"
  }
 },
 "nbformat": 4,
 "nbformat_minor": 4
}

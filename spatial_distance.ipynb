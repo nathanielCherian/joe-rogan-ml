{
 "cells": [
  {
   "cell_type": "code",
   "execution_count": 106,
   "metadata": {},
   "outputs": [
    {
     "data": {
      "text/html": [
       "<div>\n",
       "<style scoped>\n",
       "    .dataframe tbody tr th:only-of-type {\n",
       "        vertical-align: middle;\n",
       "    }\n",
       "\n",
       "    .dataframe tbody tr th {\n",
       "        vertical-align: top;\n",
       "    }\n",
       "\n",
       "    .dataframe thead th {\n",
       "        text-align: right;\n",
       "    }\n",
       "</style>\n",
       "<table border=\"1\" class=\"dataframe\">\n",
       "  <thead>\n",
       "    <tr style=\"text-align: right;\">\n",
       "      <th></th>\n",
       "      <th>chroma_stft</th>\n",
       "      <th>rmse</th>\n",
       "      <th>spectral_centroid</th>\n",
       "      <th>spectral_bandwidth</th>\n",
       "      <th>rolloff</th>\n",
       "      <th>zero_crossing_rate</th>\n",
       "      <th>mfcc1</th>\n",
       "      <th>mfcc2</th>\n",
       "      <th>mfcc3</th>\n",
       "      <th>mfcc4</th>\n",
       "      <th>...</th>\n",
       "      <th>mfcc11</th>\n",
       "      <th>mfcc12</th>\n",
       "      <th>mfcc13</th>\n",
       "      <th>mfcc14</th>\n",
       "      <th>mfcc15</th>\n",
       "      <th>mfcc16</th>\n",
       "      <th>mfcc17</th>\n",
       "      <th>mfcc18</th>\n",
       "      <th>mfcc19</th>\n",
       "      <th>mfcc20</th>\n",
       "    </tr>\n",
       "  </thead>\n",
       "  <tbody>\n",
       "    <tr>\n",
       "      <th>0</th>\n",
       "      <td>0.490575</td>\n",
       "      <td>0.025069</td>\n",
       "      <td>2171.913549</td>\n",
       "      <td>2139.885722</td>\n",
       "      <td>4431.553141</td>\n",
       "      <td>0.101278</td>\n",
       "      <td>-380.533020</td>\n",
       "      <td>112.694641</td>\n",
       "      <td>-31.796848</td>\n",
       "      <td>1.780545</td>\n",
       "      <td>...</td>\n",
       "      <td>10.122002</td>\n",
       "      <td>-1.219215</td>\n",
       "      <td>-5.020499</td>\n",
       "      <td>-8.176243</td>\n",
       "      <td>-6.034646</td>\n",
       "      <td>5.141100</td>\n",
       "      <td>-4.364628</td>\n",
       "      <td>-1.783790</td>\n",
       "      <td>-1.651915</td>\n",
       "      <td>-2.534616</td>\n",
       "    </tr>\n",
       "    <tr>\n",
       "      <th>1</th>\n",
       "      <td>0.441578</td>\n",
       "      <td>0.031176</td>\n",
       "      <td>2452.753355</td>\n",
       "      <td>2400.318018</td>\n",
       "      <td>5115.332031</td>\n",
       "      <td>0.126144</td>\n",
       "      <td>-353.482391</td>\n",
       "      <td>92.485397</td>\n",
       "      <td>-3.311667</td>\n",
       "      <td>21.250517</td>\n",
       "      <td>...</td>\n",
       "      <td>-3.828105</td>\n",
       "      <td>-2.363839</td>\n",
       "      <td>-5.873488</td>\n",
       "      <td>2.105093</td>\n",
       "      <td>-7.501835</td>\n",
       "      <td>2.208278</td>\n",
       "      <td>-3.906220</td>\n",
       "      <td>-3.250791</td>\n",
       "      <td>-2.498704</td>\n",
       "      <td>0.930458</td>\n",
       "    </tr>\n",
       "    <tr>\n",
       "      <th>2</th>\n",
       "      <td>0.391119</td>\n",
       "      <td>0.049024</td>\n",
       "      <td>2102.894499</td>\n",
       "      <td>2018.743044</td>\n",
       "      <td>3995.107015</td>\n",
       "      <td>0.106585</td>\n",
       "      <td>-298.112457</td>\n",
       "      <td>105.581268</td>\n",
       "      <td>-1.911337</td>\n",
       "      <td>38.332870</td>\n",
       "      <td>...</td>\n",
       "      <td>-2.136520</td>\n",
       "      <td>-4.300785</td>\n",
       "      <td>-13.941048</td>\n",
       "      <td>0.797238</td>\n",
       "      <td>-8.774372</td>\n",
       "      <td>-1.213172</td>\n",
       "      <td>-6.336737</td>\n",
       "      <td>-4.957156</td>\n",
       "      <td>-6.576495</td>\n",
       "      <td>-1.673529</td>\n",
       "    </tr>\n",
       "    <tr>\n",
       "      <th>5</th>\n",
       "      <td>0.469809</td>\n",
       "      <td>0.037327</td>\n",
       "      <td>2239.813927</td>\n",
       "      <td>2191.132913</td>\n",
       "      <td>4524.066162</td>\n",
       "      <td>0.112287</td>\n",
       "      <td>-324.963318</td>\n",
       "      <td>108.212601</td>\n",
       "      <td>-16.467024</td>\n",
       "      <td>26.865139</td>\n",
       "      <td>...</td>\n",
       "      <td>-2.978554</td>\n",
       "      <td>-0.770890</td>\n",
       "      <td>-7.123728</td>\n",
       "      <td>3.142917</td>\n",
       "      <td>-7.908026</td>\n",
       "      <td>0.713636</td>\n",
       "      <td>-4.640324</td>\n",
       "      <td>-4.185403</td>\n",
       "      <td>-4.470373</td>\n",
       "      <td>4.049245</td>\n",
       "    </tr>\n",
       "    <tr>\n",
       "      <th>6</th>\n",
       "      <td>0.370643</td>\n",
       "      <td>0.060327</td>\n",
       "      <td>2311.597408</td>\n",
       "      <td>1842.221912</td>\n",
       "      <td>4046.746826</td>\n",
       "      <td>0.141018</td>\n",
       "      <td>-244.242737</td>\n",
       "      <td>101.293144</td>\n",
       "      <td>-26.639498</td>\n",
       "      <td>17.342655</td>\n",
       "      <td>...</td>\n",
       "      <td>0.350607</td>\n",
       "      <td>-7.042977</td>\n",
       "      <td>-17.581421</td>\n",
       "      <td>0.219237</td>\n",
       "      <td>-15.416845</td>\n",
       "      <td>-2.527660</td>\n",
       "      <td>-6.503064</td>\n",
       "      <td>-7.859387</td>\n",
       "      <td>-11.159444</td>\n",
       "      <td>-1.384048</td>\n",
       "    </tr>\n",
       "    <tr>\n",
       "      <th>...</th>\n",
       "      <td>...</td>\n",
       "      <td>...</td>\n",
       "      <td>...</td>\n",
       "      <td>...</td>\n",
       "      <td>...</td>\n",
       "      <td>...</td>\n",
       "      <td>...</td>\n",
       "      <td>...</td>\n",
       "      <td>...</td>\n",
       "      <td>...</td>\n",
       "      <td>...</td>\n",
       "      <td>...</td>\n",
       "      <td>...</td>\n",
       "      <td>...</td>\n",
       "      <td>...</td>\n",
       "      <td>...</td>\n",
       "      <td>...</td>\n",
       "      <td>...</td>\n",
       "      <td>...</td>\n",
       "      <td>...</td>\n",
       "      <td>...</td>\n",
       "    </tr>\n",
       "    <tr>\n",
       "      <th>3242</th>\n",
       "      <td>0.356650</td>\n",
       "      <td>0.047945</td>\n",
       "      <td>1875.206792</td>\n",
       "      <td>2011.394776</td>\n",
       "      <td>3719.262695</td>\n",
       "      <td>0.086955</td>\n",
       "      <td>-325.677155</td>\n",
       "      <td>111.947113</td>\n",
       "      <td>-19.987749</td>\n",
       "      <td>29.178240</td>\n",
       "      <td>...</td>\n",
       "      <td>-1.507889</td>\n",
       "      <td>-10.745831</td>\n",
       "      <td>-11.072523</td>\n",
       "      <td>3.140289</td>\n",
       "      <td>-9.441021</td>\n",
       "      <td>-2.043447</td>\n",
       "      <td>-7.869081</td>\n",
       "      <td>-3.900815</td>\n",
       "      <td>-5.934636</td>\n",
       "      <td>-5.424959</td>\n",
       "    </tr>\n",
       "    <tr>\n",
       "      <th>3243</th>\n",
       "      <td>0.418247</td>\n",
       "      <td>0.027666</td>\n",
       "      <td>2149.070819</td>\n",
       "      <td>2065.644387</td>\n",
       "      <td>3919.940186</td>\n",
       "      <td>0.128052</td>\n",
       "      <td>-340.059937</td>\n",
       "      <td>110.586372</td>\n",
       "      <td>10.451983</td>\n",
       "      <td>19.440601</td>\n",
       "      <td>...</td>\n",
       "      <td>-0.977616</td>\n",
       "      <td>0.093682</td>\n",
       "      <td>-12.989449</td>\n",
       "      <td>-0.653208</td>\n",
       "      <td>-10.991277</td>\n",
       "      <td>-1.288508</td>\n",
       "      <td>-9.050515</td>\n",
       "      <td>-6.237614</td>\n",
       "      <td>-6.182709</td>\n",
       "      <td>-0.446258</td>\n",
       "    </tr>\n",
       "    <tr>\n",
       "      <th>3244</th>\n",
       "      <td>0.516676</td>\n",
       "      <td>0.033100</td>\n",
       "      <td>3366.970347</td>\n",
       "      <td>2442.907014</td>\n",
       "      <td>6044.848633</td>\n",
       "      <td>0.200968</td>\n",
       "      <td>-245.022491</td>\n",
       "      <td>64.018867</td>\n",
       "      <td>-0.729588</td>\n",
       "      <td>22.069118</td>\n",
       "      <td>...</td>\n",
       "      <td>-8.183720</td>\n",
       "      <td>3.516187</td>\n",
       "      <td>-11.182924</td>\n",
       "      <td>7.685889</td>\n",
       "      <td>-5.441451</td>\n",
       "      <td>3.312333</td>\n",
       "      <td>-6.929044</td>\n",
       "      <td>1.630977</td>\n",
       "      <td>-6.188900</td>\n",
       "      <td>-3.245280</td>\n",
       "    </tr>\n",
       "    <tr>\n",
       "      <th>3245</th>\n",
       "      <td>0.365482</td>\n",
       "      <td>0.047379</td>\n",
       "      <td>2386.868417</td>\n",
       "      <td>2021.569844</td>\n",
       "      <td>4224.794515</td>\n",
       "      <td>0.150748</td>\n",
       "      <td>-264.907867</td>\n",
       "      <td>95.900337</td>\n",
       "      <td>-6.250965</td>\n",
       "      <td>22.815989</td>\n",
       "      <td>...</td>\n",
       "      <td>-3.221453</td>\n",
       "      <td>-2.687887</td>\n",
       "      <td>-11.195713</td>\n",
       "      <td>6.814785</td>\n",
       "      <td>-10.712571</td>\n",
       "      <td>-0.877225</td>\n",
       "      <td>-6.911509</td>\n",
       "      <td>-4.541855</td>\n",
       "      <td>-8.026425</td>\n",
       "      <td>-5.267250</td>\n",
       "    </tr>\n",
       "    <tr>\n",
       "      <th>3246</th>\n",
       "      <td>0.382814</td>\n",
       "      <td>0.047941</td>\n",
       "      <td>2633.436915</td>\n",
       "      <td>2018.196855</td>\n",
       "      <td>4567.631022</td>\n",
       "      <td>0.164361</td>\n",
       "      <td>-256.852173</td>\n",
       "      <td>87.015022</td>\n",
       "      <td>-2.076876</td>\n",
       "      <td>25.320963</td>\n",
       "      <td>...</td>\n",
       "      <td>-6.175796</td>\n",
       "      <td>-2.481357</td>\n",
       "      <td>-13.892316</td>\n",
       "      <td>0.009595</td>\n",
       "      <td>-8.406155</td>\n",
       "      <td>2.743929</td>\n",
       "      <td>-10.627041</td>\n",
       "      <td>-2.011139</td>\n",
       "      <td>-5.203297</td>\n",
       "      <td>-5.970136</td>\n",
       "    </tr>\n",
       "  </tbody>\n",
       "</table>\n",
       "<p>1734 rows × 26 columns</p>\n",
       "</div>"
      ],
      "text/plain": [
       "      chroma_stft      rmse  spectral_centroid  spectral_bandwidth  \\\n",
       "0        0.490575  0.025069        2171.913549         2139.885722   \n",
       "1        0.441578  0.031176        2452.753355         2400.318018   \n",
       "2        0.391119  0.049024        2102.894499         2018.743044   \n",
       "5        0.469809  0.037327        2239.813927         2191.132913   \n",
       "6        0.370643  0.060327        2311.597408         1842.221912   \n",
       "...           ...       ...                ...                 ...   \n",
       "3242     0.356650  0.047945        1875.206792         2011.394776   \n",
       "3243     0.418247  0.027666        2149.070819         2065.644387   \n",
       "3244     0.516676  0.033100        3366.970347         2442.907014   \n",
       "3245     0.365482  0.047379        2386.868417         2021.569844   \n",
       "3246     0.382814  0.047941        2633.436915         2018.196855   \n",
       "\n",
       "          rolloff  zero_crossing_rate       mfcc1       mfcc2      mfcc3  \\\n",
       "0     4431.553141            0.101278 -380.533020  112.694641 -31.796848   \n",
       "1     5115.332031            0.126144 -353.482391   92.485397  -3.311667   \n",
       "2     3995.107015            0.106585 -298.112457  105.581268  -1.911337   \n",
       "5     4524.066162            0.112287 -324.963318  108.212601 -16.467024   \n",
       "6     4046.746826            0.141018 -244.242737  101.293144 -26.639498   \n",
       "...           ...                 ...         ...         ...        ...   \n",
       "3242  3719.262695            0.086955 -325.677155  111.947113 -19.987749   \n",
       "3243  3919.940186            0.128052 -340.059937  110.586372  10.451983   \n",
       "3244  6044.848633            0.200968 -245.022491   64.018867  -0.729588   \n",
       "3245  4224.794515            0.150748 -264.907867   95.900337  -6.250965   \n",
       "3246  4567.631022            0.164361 -256.852173   87.015022  -2.076876   \n",
       "\n",
       "          mfcc4  ...     mfcc11     mfcc12     mfcc13    mfcc14     mfcc15  \\\n",
       "0      1.780545  ...  10.122002  -1.219215  -5.020499 -8.176243  -6.034646   \n",
       "1     21.250517  ...  -3.828105  -2.363839  -5.873488  2.105093  -7.501835   \n",
       "2     38.332870  ...  -2.136520  -4.300785 -13.941048  0.797238  -8.774372   \n",
       "5     26.865139  ...  -2.978554  -0.770890  -7.123728  3.142917  -7.908026   \n",
       "6     17.342655  ...   0.350607  -7.042977 -17.581421  0.219237 -15.416845   \n",
       "...         ...  ...        ...        ...        ...       ...        ...   \n",
       "3242  29.178240  ...  -1.507889 -10.745831 -11.072523  3.140289  -9.441021   \n",
       "3243  19.440601  ...  -0.977616   0.093682 -12.989449 -0.653208 -10.991277   \n",
       "3244  22.069118  ...  -8.183720   3.516187 -11.182924  7.685889  -5.441451   \n",
       "3245  22.815989  ...  -3.221453  -2.687887 -11.195713  6.814785 -10.712571   \n",
       "3246  25.320963  ...  -6.175796  -2.481357 -13.892316  0.009595  -8.406155   \n",
       "\n",
       "        mfcc16     mfcc17    mfcc18     mfcc19    mfcc20  \n",
       "0     5.141100  -4.364628 -1.783790  -1.651915 -2.534616  \n",
       "1     2.208278  -3.906220 -3.250791  -2.498704  0.930458  \n",
       "2    -1.213172  -6.336737 -4.957156  -6.576495 -1.673529  \n",
       "5     0.713636  -4.640324 -4.185403  -4.470373  4.049245  \n",
       "6    -2.527660  -6.503064 -7.859387 -11.159444 -1.384048  \n",
       "...        ...        ...       ...        ...       ...  \n",
       "3242 -2.043447  -7.869081 -3.900815  -5.934636 -5.424959  \n",
       "3243 -1.288508  -9.050515 -6.237614  -6.182709 -0.446258  \n",
       "3244  3.312333  -6.929044  1.630977  -6.188900 -3.245280  \n",
       "3245 -0.877225  -6.911509 -4.541855  -8.026425 -5.267250  \n",
       "3246  2.743929 -10.627041 -2.011139  -5.203297 -5.970136  \n",
       "\n",
       "[1734 rows x 26 columns]"
      ]
     },
     "execution_count": 106,
     "metadata": {},
     "output_type": "execute_result"
    }
   ],
   "source": [
    "import numpy as np\n",
    "import pandas as pd\n",
    "\n",
    "sound_data = pd.read_csv('datasets/jrelabeled.csv')\n",
    "rogan_data = sound_data[sound_data['label'] == 1]\n",
    "X = rogan_data.drop(['filename', 'label', 'predictions'], axis=1)\n",
    "y = rogan_data['label']\n",
    "X"
   ]
  },
  {
   "cell_type": "code",
   "execution_count": 107,
   "metadata": {},
   "outputs": [],
   "source": [
    "from sklearn.preprocessing import StandardScaler, RobustScaler\n",
    "from sklearn.manifold import TSNE\n",
    "from sklearn.decomposition import PCA\n",
    "\n",
    "st_scaler = StandardScaler()\n",
    "rfeatures = st_scaler.fit_transform(X)\n",
    "\n",
    "efeatures = PCA(n_components=2).fit_transform(rfeatures)"
   ]
  },
  {
   "cell_type": "code",
   "execution_count": 108,
   "metadata": {},
   "outputs": [
    {
     "data": {
      "text/plain": [
       "<matplotlib.axes._subplots.AxesSubplot at 0x22523d4d388>"
      ]
     },
     "execution_count": 108,
     "metadata": {},
     "output_type": "execute_result"
    },
    {
     "data": {
      "image/png": "[encoded data removed]",
      "text/plain": [
       "<Figure size 432x288 with 1 Axes>"
      ]
     },
     "metadata": {},
     "output_type": "display_data"
    }
   ],
   "source": [
    "import seaborn as sns; sns.set()\n",
    "import matplotlib.pyplot as plt\n",
    "\n",
    "reduced_data = pd.DataFrame(efeatures, columns=['x1', 'x2'])\n",
    "sns.scatterplot(x='x1', y='x2', data=reduced_data)"
   ]
  },
  {
   "cell_type": "code",
   "execution_count": 109,
   "metadata": {},
   "outputs": [
    {
     "data": {
      "text/plain": [
       "KMeans(algorithm='auto', copy_x=True, init='k-means++', max_iter=300,\n",
       "       n_clusters=1, n_init=10, n_jobs=None, precompute_distances='auto',\n",
       "       random_state=None, tol=0.0001, verbose=0)"
      ]
     },
     "execution_count": 109,
     "metadata": {},
     "output_type": "execute_result"
    }
   ],
   "source": [
    "from sklearn.cluster import KMeans\n",
    "\n",
    "km = KMeans(n_clusters=1)\n",
    "km.fit(X)\n"
   ]
  },
  {
   "cell_type": "code",
   "execution_count": 112,
   "metadata": {},
   "outputs": [],
   "source": [
    "center = km.cluster_centers_[0]"
   ]
  },
  {
   "cell_type": "code",
   "execution_count": 119,
   "metadata": {},
   "outputs": [],
   "source": [
    "from sklearn.metrics.pairwise import euclidean_distances\n",
    "\n",
    "distances = euclidean_distances(X, [center])"
   ]
  },
  {
   "cell_type": "code",
   "execution_count": 120,
   "metadata": {},
   "outputs": [
    {
     "data": {
      "text/plain": [
       "count    1734.000000\n",
       "mean      947.531027\n",
       "std       615.849142\n",
       "min        37.007955\n",
       "25%       453.558773\n",
       "50%       841.115253\n",
       "75%      1335.734963\n",
       "max      4146.903202\n",
       "dtype: float64"
      ]
     },
     "execution_count": 120,
     "metadata": {},
     "output_type": "execute_result"
    }
   ],
   "source": [
    "pd.Series(distances[:,0]).describe()"
   ]
  },
  {
   "cell_type": "code",
   "execution_count": 121,
   "metadata": {},
   "outputs": [
    {
     "data": {
      "text/plain": [
       "<matplotlib.axes._subplots.AxesSubplot at 0x22524008388>"
      ]
     },
     "execution_count": 121,
     "metadata": {},
     "output_type": "execute_result"
    },
    {
     "data": {
      "image/png": "[encoded data removed]",
      "text/plain": [
       "<Figure size 432x288 with 1 Axes>"
      ]
     },
     "metadata": {},
     "output_type": "display_data"
    }
   ],
   "source": [
    "sns.distplot(distances[:,0])"
   ]
  },
  {
   "cell_type": "code",
   "execution_count": 122,
   "metadata": {},
   "outputs": [],
   "source": [
    "from pydub import AudioSegment\n",
    "import librosa\n",
    "import pathlib\n",
    "import os\n",
    "\n",
    "\n",
    "\n",
    "def preprocessing(filename):\n",
    "    \n",
    "\n",
    "    y, sr = librosa.load(f\"audio/{filename}.wav\", mono=True)\n",
    "    \n",
    "    \n",
    "    rmse = librosa.feature.rms(y=y) #root mean squred ENERGY note. changed to rms form rmse\n",
    "    chroma_stft = librosa.feature.chroma_stft(y=y, sr=sr)\n",
    "    spec_cent = librosa.feature.spectral_centroid(y=y, sr=sr)\n",
    "    spec_bw = librosa.feature.spectral_bandwidth(y=y, sr=sr)\n",
    "    rolloff = librosa.feature.spectral_rolloff(y=y, sr=sr)\n",
    "    zcr = librosa.feature.zero_crossing_rate(y)\n",
    "    mfcc = librosa.feature.mfcc(y=y, sr=sr)\n",
    "    \n",
    "    to_append = f'{np.mean(chroma_stft)} {np.mean(rmse)} {np.mean(spec_cent)} {np.mean(spec_bw)} {np.mean(rolloff)} {np.mean(zcr)}'\n",
    "\n",
    "    for e in mfcc:\n",
    "        to_append += f' {np.mean(e)}'\n",
    "    \n",
    "    scaled_data = st_scaler.transform([to_append.split()])\n",
    "    \n",
    "    #return scaled_data\n",
    "    return [to_append.split()]"
   ]
  },
  {
   "cell_type": "code",
   "execution_count": 123,
   "metadata": {},
   "outputs": [],
   "source": [
    "vector = preprocessing(f'roganclimate/roganclimate41')"
   ]
  },
  {
   "cell_type": "code",
   "execution_count": 124,
   "metadata": {},
   "outputs": [
    {
     "data": {
      "text/plain": [
       "array([[703.88903091]])"
      ]
     },
     "execution_count": 124,
     "metadata": {},
     "output_type": "execute_result"
    }
   ],
   "source": [
    "euclidean_distances(vector, [center])"
   ]
  },
  {
   "cell_type": "code",
   "execution_count": 125,
   "metadata": {},
   "outputs": [],
   "source": [
    "elon_data = sound_data[sound_data['label'] == 0].drop(['predictions', 'label', 'filename'], axis=1)"
   ]
  },
  {
   "cell_type": "code",
   "execution_count": 101,
   "metadata": {},
   "outputs": [],
   "source": [
    "vectors = st_scaler.transform(elon_data)"
   ]
  },
  {
   "cell_type": "code",
   "execution_count": 126,
   "metadata": {},
   "outputs": [],
   "source": [
    "edistances = euclidean_distances(elon_data, [center])"
   ]
  },
  {
   "cell_type": "code",
   "execution_count": 127,
   "metadata": {},
   "outputs": [
    {
     "data": {
      "text/plain": [
       "count    1140.000000\n",
       "mean      572.553137\n",
       "std       377.750307\n",
       "min        28.019094\n",
       "25%       284.812217\n",
       "50%       469.507070\n",
       "75%       789.234772\n",
       "max      2274.464427\n",
       "dtype: float64"
      ]
     },
     "execution_count": 127,
     "metadata": {},
     "output_type": "execute_result"
    }
   ],
   "source": [
    "pd.Series(edistances[:,0]).describe()"
   ]
  },
  {
   "cell_type": "code",
   "execution_count": null,
   "metadata": {},
   "outputs": [],
   "source": []
  },
  {
   "cell_type": "code",
   "execution_count": null,
   "metadata": {},
   "outputs": [],
   "source": []
  }
 ],
 "metadata": {
  "kernelspec": {
   "display_name": "Python 3",
   "language": "python",
   "name": "python3"
  },
  "language_info": {
   "codemirror_mode": {
    "name": "ipython",
    "version": 3
   },
   "file_extension": ".py",
   "mimetype": "text/x-python",
   "name": "python",
   "nbconvert_exporter": "python",
   "pygments_lexer": "ipython3",
   "version": "3.7.6"
  }
 },
 "nbformat": 4,
 "nbformat_minor": 4
}

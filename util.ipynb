{
 "cells": [
  {
   "cell_type": "code",
   "execution_count": 22,
   "metadata": {},
   "outputs": [],
   "source": [
    "import youtube_dl\n",
    "from pydub import AudioSegment\n",
    "import pathlib\n",
    "import os\n",
    "import csv\n",
    "import numpy as np\n",
    "import librosa\n",
    "\n",
    "\n",
    "def timestamps(total_time, split):\n",
    "    iters = int(total_time/split)\n",
    "    for i in range(1, iters + 1):\n",
    "        yield (i-1)*split, i * split, i\n",
    "\n",
    "header = 'filename chroma_stft rmse spectral_centroid spectral_bandwidth rolloff zero_crossing_rate'\n",
    "for i in range(1, 21):\n",
    "    header += f' mfcc{i}'\n",
    "header += ' label'\n",
    "header = header.split()\n",
    "\n",
    "\n",
    "        \n",
    "def get_audio_from_url(url, title, split=2500):\n",
    "\n",
    "    ydl_opts = {\n",
    "        'outtmpl': f'audio/FULL_INTERVIEWS/{title}.mp3',\n",
    "        'format': 'bestaudio/best',\n",
    "        'postprocessors': [{\n",
    "            'key': 'FFmpegExtractAudio',\n",
    "            'preferredcodec': 'mp3',\n",
    "            'preferredquality': '192',\n",
    "        }],\n",
    "        'prefer_ffmpeg': True,\n",
    "\n",
    "    }\n",
    "\n",
    "    with youtube_dl.YoutubeDL(ydl_opts) as ydl:\n",
    "        ydl.download([f\"{url}\"])\n",
    "        \n",
    "    sound = AudioSegment.from_file(f\"audio/FULL_INTERVIEWS/{title}.mp3\")\n",
    "    sound.export(f\"audio/FULL_INTERVIEWS/{title}.wav\", format=\"wav\")\n",
    "\n",
    "    \n",
    "    pathlib.Path(f'audio/{title}').mkdir(parents=True, exist_ok=True)\n",
    "\n",
    "    newAudio = AudioSegment.from_wav(f\"audio/FULL_INTERVIEWS/{title}.wav\")\n",
    "\n",
    "    for start, end, val in timestamps(len(newAudio), split):\n",
    "        cutAudio = newAudio[start:end]\n",
    "        cutAudio.export(f'audio/{title}/{title}_{val-1}.wav', format='wav')   \n",
    "    \n",
    "        \n",
    "        \n",
    "    file = open(f'datasets/{title}.csv', 'w', newline='')\n",
    "\n",
    "    with file:\n",
    "        writer = csv.writer(file)\n",
    "        writer.writerow(header)\n",
    "\n",
    "    for filename in os.listdir(f'audio/{title}'):\n",
    "        songname = f'audio/{title}/{filename}'\n",
    "        y, sr = librosa.load(songname, mono=True, duration=5)\n",
    "\n",
    "        rmse = librosa.feature.rms(y=y) #root mean squred ENERGY note. changed to rms form rmse\n",
    "        chroma_stft = librosa.feature.chroma_stft(y=y, sr=sr)\n",
    "        spec_cent = librosa.feature.spectral_centroid(y=y, sr=sr)\n",
    "        spec_bw = librosa.feature.spectral_bandwidth(y=y, sr=sr)\n",
    "        rolloff = librosa.feature.spectral_rolloff(y=y, sr=sr)\n",
    "        zcr = librosa.feature.zero_crossing_rate(y)\n",
    "        mfcc = librosa.feature.mfcc(y=y, sr=sr)\n",
    "\n",
    "        to_append = f'{filename} {np.mean(chroma_stft)} {np.mean(rmse)} {np.mean(spec_cent)} {np.mean(spec_bw)} {np.mean(rolloff)} {np.mean(zcr)}'\n",
    "\n",
    "        for e in mfcc:\n",
    "            to_append += f' {np.mean(e)}'\n",
    "\n",
    "        to_append += f' {title}'\n",
    "\n",
    "        file = open(f'datasets/{title}.csv', 'a', newline='')\n",
    "        with file:\n",
    "            writer = csv.writer(file)\n",
    "            writer.writerow(to_append.split())\n",
    "    "
   ]
  },
  {
   "cell_type": "code",
   "execution_count": 24,
   "metadata": {},
   "outputs": [
    {
     "name": "stdout",
     "output_type": "stream",
     "text": [
      "[youtube] eJFfoSQcC0A: Downloading webpage\n",
      "[download] Destination: audio\\FULL_INTERVIEWS\\dopamine.mp3\n",
      "[download] 100% of 5.06MiB in 00:02                  \n",
      "[ffmpeg] Post-process file audio\\FULL_INTERVIEWS\\dopamine.mp3 exists, skipping\n"
     ]
    }
   ],
   "source": [
    "get_audio_from_url('https://www.youtube.com/watch?v=eJFfoSQcC0A', 'dopamine')"
   ]
  },
  {
   "cell_type": "code",
   "execution_count": null,
   "metadata": {},
   "outputs": [],
   "source": []
  }
 ],
 "metadata": {
  "kernelspec": {
   "display_name": "Python 3",
   "language": "python",
   "name": "python3"
  },
  "language_info": {
   "codemirror_mode": {
    "name": "ipython",
    "version": 3
   },
   "file_extension": ".py",
   "mimetype": "text/x-python",
   "name": "python",
   "nbconvert_exporter": "python",
   "pygments_lexer": "ipython3",
   "version": "3.7.6"
  }
 },
 "nbformat": 4,
 "nbformat_minor": 4
}
